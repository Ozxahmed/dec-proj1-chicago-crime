{
 "cells": [
  {
   "cell_type": "code",
   "execution_count": 21,
   "metadata": {},
   "outputs": [],
   "source": [
    "import logging\n",
    "import time\n"
   ]
  },
  {
   "cell_type": "code",
   "execution_count": 27,
   "metadata": {},
   "outputs": [],
   "source": [
    "class PipelineLogging:\n",
    "    def __init__(self, pipeline_name: str, log_folder_path: str):\n",
    "        self.pipeline_name = pipeline_name\n",
    "        self.log_folder_path = log_folder_path\n",
    "        logger = logging.getLogger(pipeline_name)\n",
    "        logger.setLevel(logging.INFO)\n",
    "        self.file_path = (\n",
    "            f\"{self.log_folder_path}/{self.pipeline_name}_{time.time()}.log\"\n",
    "        )\n",
    "        file_handler = logging.FileHandler(self.file_path)\n",
    "        file_handler.setLevel(logging.INFO)\n",
    "        stream_handler = logging.StreamHandler()\n",
    "        stream_handler.setLevel(logging.INFO)\n",
    "        formatter = logging.Formatter(\n",
    "            \"%(asctime)s - %(name)s - %(levelname)s - %(message)s\"\n",
    "        )\n",
    "        file_handler.setFormatter(formatter)\n",
    "        stream_handler.setFormatter(formatter)\n",
    "        logger.addHandler(file_handler)\n",
    "        logger.addHandler(stream_handler)\n",
    "        self.logger = logger\n",
    "\n",
    "    def get_logs(self) -> str:\n",
    "        with open(self.file_path, \"r\") as file:\n",
    "            return \"\".join(file.readlines())"
   ]
  },
  {
   "cell_type": "code",
   "execution_count": 35,
   "metadata": {},
   "outputs": [],
   "source": [
    "pipeline_logging = PipelineLogging(pipeline_name=\"Chicago ETL\", log_folder_path=\"etl_project/logs\")"
   ]
  },
  {
   "cell_type": "code",
   "execution_count": 36,
   "metadata": {},
   "outputs": [
    {
     "name": "stderr",
     "output_type": "stream",
     "text": [
      "2024-01-22 11:54:07,765 - Chicago ETL - INFO - Perform extract and load\n",
      "2024-01-22 11:54:07,765 - Chicago ETL - INFO - Perform extract and load\n"
     ]
    }
   ],
   "source": [
    "pipeline_logging.logger.info(\"Perform extract and load\")"
   ]
  },
  {
   "cell_type": "code",
   "execution_count": 30,
   "metadata": {},
   "outputs": [
    {
     "name": "stderr",
     "output_type": "stream",
     "text": [
      "2024-01-22 11:36:10,573 - Chicago ETL - INFO - Connecting to pgAdmin\n"
     ]
    }
   ],
   "source": [
    "pipeline_logging.logger.info(\"Connecting to pgAdmin\")"
   ]
  },
  {
   "cell_type": "code",
   "execution_count": 32,
   "metadata": {},
   "outputs": [],
   "source": [
    "a = 65"
   ]
  },
  {
   "cell_type": "code",
   "execution_count": 33,
   "metadata": {},
   "outputs": [
    {
     "name": "stderr",
     "output_type": "stream",
     "text": [
      "2024-01-22 11:44:07,639 - Chicago Crime ETL - INFO - Connecting to pgAdmin - 65\n",
      "2024-01-22 11:44:07,639 - Chicago Crime ETL - INFO - Connecting to pgAdmin - 65\n"
     ]
    }
   ],
   "source": [
    "pipeline_logging.logger.info(f\"Connecting to pgAdmin - {a}\")"
   ]
  },
  {
   "cell_type": "code",
   "execution_count": 37,
   "metadata": {},
   "outputs": [],
   "source": [
    "\n",
    "pipeline_logging.logger.handlers.clear()"
   ]
  },
  {
   "cell_type": "code",
   "execution_count": null,
   "metadata": {},
   "outputs": [],
   "source": [
    "class MetaDataLogging:\n",
    "    def __init__(self,pipeline_name: str, postgresql_client: PostgreSqlClient,\n",
    "        config: dict = {},\n",
    "        log_table_name: str = \"pipeline_logs\",\n",
    "    ):\n",
    "        self.pipeline_name = pipeline_name\n",
    "        self.log_table_name = log_table_name\n",
    "        self.postgresql_client = postgresql_client\n",
    "        self.config = config\n",
    "        self.metadata = MetaData()\n",
    "        self.table = Table(\n",
    "            self.log_table_name,\n",
    "            self.metadata,\n",
    "            Column(\"pipeline_name\", String, primary_key=True),\n",
    "            Column(\"run_id\", Integer, primary_key=True),\n",
    "            Column(\"timestamp\", String, primary_key=True),\n",
    "            Column(\"status\", String, primary_key=True),\n",
    "            Column(\"config\", JSON),\n",
    "            Column(\"logs\", String),\n",
    "        )\n",
    "        self.run_id: int = self._get_run_id()\n",
    "\n",
    "    def _get_run_id(self):\n",
    "        \"\"\"Gets the next run id. Sets run id to 1 if no run id exists.\"\"\"\n",
    "        self.postgresql_client.create_all_tables(metadata=self.metadata) # Create log table if it does not exist\n",
    "        self._create_log_table()\n",
    "        run_id = self.postgresql_client.engine.execute(\n",
    "            select(func.max(self.table.c.run_id)).where(\n",
    "                self.table.c.pipeline_name == self.pipeline_name\n",
    "            )\n",
    "        ).first()[0]\n",
    "        if run_id is None:\n",
    "            return 1\n",
    "        else:\n",
    "            return run_id + 1\n",
    "\n",
    "    def log(self, status:str, timestamp:datetime, logs:str) -> None:\n",
    "        \"\"\"Writes pipeline metadata log to a database\"\"\"\n",
    "        if timestamp is None:\n",
    "            timestamp = datetime.now()\n",
    "        insert_statement = insert(self.table).values(\n",
    "            pipeline_name=self.pipeline_name,\n",
    "            timestamp=timestamp,\n",
    "            run_id=self.run_id,\n",
    "            status=status,\n",
    "            config=self.config,\n",
    "            logs=logs,\n",
    "        )\n",
    "        self.postgresql_client.engine.execute(insert_statement)\n"
   ]
  }
 ],
 "metadata": {
  "kernelspec": {
   "display_name": "chicago-crime",
   "language": "python",
   "name": "python3"
  },
  "language_info": {
   "codemirror_mode": {
    "name": "ipython",
    "version": 3
   },
   "file_extension": ".py",
   "mimetype": "text/x-python",
   "name": "python",
   "nbconvert_exporter": "python",
   "pygments_lexer": "ipython3",
   "version": "3.12.1"
  }
 },
 "nbformat": 4,
 "nbformat_minor": 2
}
