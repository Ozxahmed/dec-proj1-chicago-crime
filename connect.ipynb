{
 "cells": [
  {
   "cell_type": "code",
   "execution_count": 21,
   "metadata": {},
   "outputs": [],
   "source": [
    "import requests\n",
    "import pandas as pd\n",
    "\n",
    "url = \"https://data.cityofchicago.org/resource/x2n5-8w5q.json\"\n",
    "\n",
    "headers = {\n",
    "    \"API_KEY_ID\": \"eeq9123noc1z7eb8t1vpikh9d\",\n",
    "    \"API_SECRET\": \"2poj7tjkmwipstkvl6ma8x5n08pgecpg8eu8oktw07iub2m85k\",\n",
    "    \"X-App-Token\": \"5IjbSaHia9W5Wqjn3e1Nniv2M\",\n",
    "    \"APP_SECRET\": \"sJK7NDZFrRbhHIcr5gqSArGXCLuSPgSxSm3m\"\n",
    "}\n",
    "\n",
    "response = requests.get(url=url, headers=headers)\n",
    "\n",
    "if response.status_code == 200:\n",
    "    response_data = response.json()\n",
    "else:\n",
    "    print(response.status_code)\n",
    "\n",
    "df = pd.json_normalize(response_data)"
   ]
  },
  {
   "cell_type": "code",
   "execution_count": 22,
   "metadata": {},
   "outputs": [
    {
     "data": {
      "text/plain": [
       "1000"
      ]
     },
     "execution_count": 22,
     "metadata": {},
     "output_type": "execute_result"
    }
   ],
   "source": [
    "len(df)"
   ]
  },
  {
   "cell_type": "code",
   "execution_count": null,
   "metadata": {},
   "outputs": [],
   "source": []
  }
 ],
 "metadata": {
  "language_info": {
   "name": "python"
  }
 },
 "nbformat": 4,
 "nbformat_minor": 2
}
