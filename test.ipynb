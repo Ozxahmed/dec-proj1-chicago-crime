{
 "cells": [
  {
   "cell_type": "code",
   "execution_count": 665,
   "metadata": {},
   "outputs": [],
   "source": [
    "import requests\n",
    "import pandas as pd\n",
    "from dotenv import load_dotenv\n",
    "import os\n",
    "from sqlalchemy import create_engine, Table, Column, String, MetaData, inspect\n",
    "from sqlalchemy.engine import URL\n",
    "from sqlalchemy.dialects import postgresql\n",
    "from sqlalchemy.engine.base import Engine\n",
    "from datetime import datetime, timedelta, timezone"
   ]
  },
  {
   "cell_type": "code",
   "execution_count": 584,
   "metadata": {},
   "outputs": [],
   "source": [
    "APP_TOKEN = os.environ.get(\"APP_TOKEN\")\n",
    "DB_USERNAME = os.environ.get(\"DB_USERNAME\")\n",
    "DB_PASSWORD = os.environ.get(\"DB_PASSWORD\")\n",
    "SERVER_NAME = os.environ.get(\"SERVER_NAME\")\n",
    "DATABASE_NAME = os.environ.get(\"DATABASE_NAME\")\n",
    "PORT = os.environ.get(\"PORT\")"
   ]
  },
  {
   "cell_type": "code",
   "execution_count": 585,
   "metadata": {},
   "outputs": [],
   "source": [
    "\n",
    "def create_postgres_connection(username:str, password:str, host:str, port:int, database:str) -> Engine:\n",
    "    \"\"\"\n",
    "    Connect to postgres server using provided pgAdmin credentials.\n",
    "    \"\"\"\n",
    "    connection_url = URL.create(\n",
    "        drivername = \"postgresql+pg8000\", \n",
    "        username = username,\n",
    "        password = password,\n",
    "        host = host, \n",
    "        port = port,\n",
    "        database = database)\n",
    "\n",
    "    return create_engine(connection_url)\n"
   ]
  },
  {
   "cell_type": "code",
   "execution_count": 586,
   "metadata": {},
   "outputs": [],
   "source": [
    "engine = create_postgres_connection(\n",
    "    username=DB_USERNAME, \n",
    "    password=DB_PASSWORD, \n",
    "    host=SERVER_NAME, \n",
    "    port=PORT, \n",
    "    database=DATABASE_NAME)"
   ]
  },
  {
   "cell_type": "code",
   "execution_count": 646,
   "metadata": {},
   "outputs": [],
   "source": [
    "inspector = inspect(engine)"
   ]
  },
  {
   "cell_type": "code",
   "execution_count": 647,
   "metadata": {},
   "outputs": [
    {
     "data": {
      "text/plain": [
       "['ward_crimes_summary',\n",
       " 'crime_growth_by_month',\n",
       " 'holiday_vs_non_holiday_crimes',\n",
       " 'police_rank_by_arrest']"
      ]
     },
     "execution_count": 647,
     "metadata": {},
     "output_type": "execute_result"
    }
   ],
   "source": [
    "inspector.get_view_names()"
   ]
  },
  {
   "cell_type": "code",
   "execution_count": 611,
   "metadata": {},
   "outputs": [],
   "source": [
    "import schedule\n",
    "import time\n"
   ]
  },
  {
   "cell_type": "code",
   "execution_count": 615,
   "metadata": {},
   "outputs": [],
   "source": [
    "def job1():\n",
    "    print(\"Running job\")"
   ]
  },
  {
   "cell_type": "code",
   "execution_count": 677,
   "metadata": {},
   "outputs": [
    {
     "data": {
      "text/plain": [
       "Every 86400 seconds do job1() (last run: [never], next run: 2024-01-23 11:10:39)"
      ]
     },
     "execution_count": 677,
     "metadata": {},
     "output_type": "execute_result"
    }
   ],
   "source": [
    "# schedule.every(10).seconds.do(print(\"Running job\"))\n",
    "schedule.every(86400).seconds.do(job1)"
   ]
  },
  {
   "cell_type": "code",
   "execution_count": 678,
   "metadata": {},
   "outputs": [
    {
     "name": "stdout",
     "output_type": "stream",
     "text": [
      "Running job\n",
      "Running job\n",
      "Running job\n"
     ]
    },
    {
     "ename": "KeyboardInterrupt",
     "evalue": "",
     "output_type": "error",
     "traceback": [
      "\u001b[1;31m---------------------------------------------------------------------------\u001b[0m",
      "\u001b[1;31mKeyboardInterrupt\u001b[0m                         Traceback (most recent call last)",
      "\u001b[1;32mc:\\Users\\kozha\\OneDrive\\Desktop\\code\\DEC\\Projects\\1\\dec-proj1-chicago-crime\\test.ipynb Cell 10\u001b[0m line \u001b[0;36m3\n\u001b[0;32m      <a href='vscode-notebook-cell:/c%3A/Users/kozha/OneDrive/Desktop/code/DEC/Projects/1/dec-proj1-chicago-crime/test.ipynb#Y402sZmlsZQ%3D%3D?line=0'>1</a>\u001b[0m \u001b[39mwhile\u001b[39;00m \u001b[39mTrue\u001b[39;00m:\n\u001b[0;32m      <a href='vscode-notebook-cell:/c%3A/Users/kozha/OneDrive/Desktop/code/DEC/Projects/1/dec-proj1-chicago-crime/test.ipynb#Y402sZmlsZQ%3D%3D?line=1'>2</a>\u001b[0m     schedule\u001b[39m.\u001b[39mrun_pending()\n\u001b[1;32m----> <a href='vscode-notebook-cell:/c%3A/Users/kozha/OneDrive/Desktop/code/DEC/Projects/1/dec-proj1-chicago-crime/test.ipynb#Y402sZmlsZQ%3D%3D?line=2'>3</a>\u001b[0m     time\u001b[39m.\u001b[39;49msleep(\u001b[39m1\u001b[39;49m)\n",
      "\u001b[1;31mKeyboardInterrupt\u001b[0m: "
     ]
    }
   ],
   "source": [
    "while True:\n",
    "    schedule.run_pending()\n",
    "    time.sleep(1)"
   ]
  }
 ],
 "metadata": {
  "language_info": {
   "name": "python"
  }
 },
 "nbformat": 4,
 "nbformat_minor": 2
}
